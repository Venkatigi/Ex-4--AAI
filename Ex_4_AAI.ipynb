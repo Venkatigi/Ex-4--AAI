{
  "cells": [
    {
      "cell_type": "code",
      "execution_count": 1,
      "metadata": {
        "id": "DvJgm23atmnY"
      },
      "outputs": [],
      "source": [
        "import numpy as np\n",
        "# Define the transition matrix\n",
        "transition_matrix = np.array([[0.7,0.3],\n",
        "                              [0.4,0.6]])"
      ]
    },
    {
      "cell_type": "code",
      "execution_count": 2,
      "metadata": {
        "id": "LkJTF3WAtmna"
      },
      "outputs": [],
      "source": [
        "# Define the emission matrix\n",
        "emission_matrix = np.array([[0.1,0.9],\n",
        "                            [0.8,0.2]])"
      ]
    },
    {
      "cell_type": "code",
      "execution_count": 3,
      "metadata": {
        "id": "iz-x0d8xtmna"
      },
      "outputs": [],
      "source": [
        "# Define the initial probabilities\n",
        "initial_probabilities = np.array([0.5,0.5])"
      ]
    },
    {
      "cell_type": "code",
      "execution_count": 4,
      "metadata": {
        "id": "cWbbHhLFtmna"
      },
      "outputs": [],
      "source": [
        "# Define the observed sequence\n",
        "observed_sequence = np.array([1,1,1,0,0,1])"
      ]
    },
    {
      "cell_type": "code",
      "execution_count": 5,
      "metadata": {
        "id": "6JTKyy83tmnb"
      },
      "outputs": [],
      "source": [
        "# Initialize the alpha matrix\n",
        "alpha = np.zeros((len(observed_sequence),len(initial_probabilities)))"
      ]
    },
    {
      "cell_type": "code",
      "execution_count": 6,
      "metadata": {
        "id": "L7GMbJJ8tmnb"
      },
      "outputs": [],
      "source": [
        "# Calculate the first row of the alpha matrix\n",
        "alpha[0,:]= initial_probabilities*emission_matrix[:,observed_sequence[0]]"
      ]
    },
    {
      "cell_type": "code",
      "execution_count": 7,
      "metadata": {
        "id": "_juwx_zStmnb"
      },
      "outputs": [],
      "source": [
        "# Loop through the rest of the observed sequence and calculate the rest of the alpha matrix\n",
        "for t in range (1,len(observed_sequence)):\n",
        "  for j in range (len(initial_probabilities)):\n",
        "    alpha[t,j]=emission_matrix[j,observed_sequence[t]]*np.sum(alpha[t-1,:]*transition_matrix[:,j])"
      ]
    },
    {
      "cell_type": "code",
      "execution_count": 8,
      "metadata": {
        "id": "JtrwgaXatmnb"
      },
      "outputs": [],
      "source": [
        "# Calculate the probability of the observed sequence\n",
        "probability = np.sum(alpha[-1,:])"
      ]
    },
    {
      "cell_type": "code",
      "execution_count": 9,
      "metadata": {
        "colab": {
          "base_uri": "https://localhost:8080/"
        },
        "id": "cjkmMFWGtmnb",
        "outputId": "e520cda2-b7e3-4ecb-8c7f-3b168d78e7a4"
      },
      "outputs": [
        {
          "output_type": "stream",
          "name": "stdout",
          "text": [
            "The probability of the observed sequence is: 0.018906881625\n"
          ]
        }
      ],
      "source": [
        "# Print the probability of the observed sequence\n",
        "print(\"The probability of the observed sequence is:\",probability)"
      ]
    },
    {
      "cell_type": "code",
      "execution_count": 10,
      "metadata": {
        "id": "-ojxolcytmnb"
      },
      "outputs": [],
      "source": [
        "# Find the most likely sequence of weather states given the observed sequence\n",
        "most_likely_sequence=[]\n",
        "for t in range(len(observed_sequence)):\n",
        "  if alpha[t,0] > alpha[t,1]:\n",
        "    most_likely_sequence.append(\"sunny\")\n",
        "  else:\n",
        "    most_likely_sequence.append(\"rainy\")"
      ]
    },
    {
      "cell_type": "code",
      "execution_count": 11,
      "metadata": {
        "colab": {
          "base_uri": "https://localhost:8080/"
        },
        "id": "4UWY48-xtmnb",
        "outputId": "6e043675-b260-49bc-9ae4-baa8896adef9"
      },
      "outputs": [
        {
          "output_type": "stream",
          "name": "stdout",
          "text": [
            "The most likely sequence of weather states is: ['sunny', 'sunny', 'sunny', 'rainy', 'rainy', 'sunny']\n"
          ]
        }
      ],
      "source": [
        "# Print the most likely sequence of weather states\n",
        "print(\"The most likely sequence of weather states is:\",most_likely_sequence)"
      ]
    },
    {
      "cell_type": "code",
      "source": [],
      "metadata": {
        "id": "76XVxXwryl0f"
      },
      "execution_count": null,
      "outputs": []
    }
  ],
  "metadata": {
    "kernelspec": {
      "display_name": "Python 3",
      "language": "python",
      "name": "python3"
    },
    "language_info": {
      "name": "python",
      "version": "3.10.6"
    },
    "colab": {
      "provenance": []
    }
  },
  "nbformat": 4,
  "nbformat_minor": 0
}